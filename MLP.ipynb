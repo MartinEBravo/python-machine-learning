{
 "cells": [
  {
   "cell_type": "code",
   "execution_count": 2,
   "metadata": {},
   "outputs": [],
   "source": [
    "import tensorflow as tf\n",
    "import numpy as np"
   ]
  },
  {
   "cell_type": "markdown",
   "metadata": {},
   "source": [
    "## Importing Dataset"
   ]
  },
  {
   "cell_type": "code",
   "execution_count": 3,
   "metadata": {},
   "outputs": [
    {
     "data": {
      "text/plain": [
       "(60000, 10000)"
      ]
     },
     "execution_count": 3,
     "metadata": {},
     "output_type": "execute_result"
    }
   ],
   "source": [
    "mnist = tf.keras.datasets.mnist\n",
    "\n",
    "(train_images, train_labels), (test_images, test_labels) = mnist.load_data()\n",
    "\n",
    "train_images = train_images / 255.0\n",
    "test_images = test_images / 255.0\n",
    "\n",
    "len(train_images), len(test_images)"
   ]
  },
  {
   "cell_type": "markdown",
   "metadata": {},
   "source": [
    "## One Hot Encoding Function"
   ]
  },
  {
   "cell_type": "code",
   "execution_count": 4,
   "metadata": {},
   "outputs": [
    {
     "data": {
      "text/plain": [
       "array([0., 0., 0., 0., 1., 0., 0., 0., 0., 0.])"
      ]
     },
     "execution_count": 4,
     "metadata": {},
     "output_type": "execute_result"
    }
   ],
   "source": [
    "# Lets calculate the amount of labels\n",
    "unique_labels = set()\n",
    "for i in range(len(train_labels)):\n",
    "    if train_labels[i] not in unique_labels:\n",
    "        unique_labels.add(train_labels[i])\n",
    "num_labels = len(unique_labels)\n",
    "\n",
    "\n",
    "# One hot function\n",
    "def one_hot(number):\n",
    "    \"\"\"\n",
    "    3 -> [0,0,1,...,0]\n",
    "    \"\"\"\n",
    "    array = np.zeros(num_labels, dtype=float)\n",
    "    array[number-1] = 1\n",
    "    return array\n",
    "\n",
    "one_hot(5)"
   ]
  },
  {
   "cell_type": "markdown",
   "metadata": {},
   "source": [
    "## Activation Functions\n",
    "\n",
    "### Sigmoid\n",
    "\n",
    "$$\\sigma(z) = \\frac{1}{1+e^{-z}}$$\n"
   ]
  },
  {
   "cell_type": "code",
   "execution_count": 5,
   "metadata": {},
   "outputs": [],
   "source": [
    "def sigmoid(z):\n",
    "    return 1 / (1+np.exp(-z))"
   ]
  },
  {
   "cell_type": "markdown",
   "metadata": {},
   "source": [
    "## Multi Layer Perceptron"
   ]
  },
  {
   "cell_type": "code",
   "execution_count": 6,
   "metadata": {},
   "outputs": [],
   "source": [
    "class MultiLayerPerceptron:\n",
    "\n",
    "    def __init__(self, num_features, num_labels, num_hidden):\n",
    "\n",
    "        self.num_features = num_features\n",
    "        self.num_labels = num_labels\n",
    "        self.num_hidden = num_hidden\n",
    "\n",
    "        # Hidden Layer\n",
    "        self.w_hidden = np.random.rand(num_features, num_hidden)\n",
    "        self.b_hidden = np.random.rand(1, num_hidden)\n",
    "\n",
    "        # Output Layer\n",
    "        self.w_output = np.random.rand(num_hidden, num_labels)\n",
    "        self.b_output = np.random.rand(1, num_labels)\n",
    "\n",
    "    def forward(self, x):\n",
    "        \"\"\"\n",
    "        x : 1 x num_features\n",
    "        \"\"\"\n",
    "        \n",
    "\n",
    "        # result_hidden 1, num_hidden\n",
    "        result_hidden = sigmoid(np.matmul(x,self.w_hidden) + self.b_hidden)\n",
    "        # result_output 1, num_output\n",
    "        result_output = sigmoid(np.matmul(result_hidden,self.w_output) + self.b_output)\n",
    "\n",
    "        return result_output"
   ]
  },
  {
   "cell_type": "code",
   "execution_count": null,
   "metadata": {},
   "outputs": [],
   "source": []
  }
 ],
 "metadata": {
  "kernelspec": {
   "display_name": "Python 3",
   "language": "python",
   "name": "python3"
  },
  "language_info": {
   "codemirror_mode": {
    "name": "ipython",
    "version": 3
   },
   "file_extension": ".py",
   "mimetype": "text/x-python",
   "name": "python",
   "nbconvert_exporter": "python",
   "pygments_lexer": "ipython3",
   "version": "3.12.2"
  }
 },
 "nbformat": 4,
 "nbformat_minor": 2
}
