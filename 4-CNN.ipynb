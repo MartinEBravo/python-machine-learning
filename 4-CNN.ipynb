{
 "cells": [
  {
   "cell_type": "markdown",
   "metadata": {},
   "source": [
    "# Convolutional Neural Networks"
   ]
  },
  {
   "cell_type": "code",
   "execution_count": 2,
   "metadata": {},
   "outputs": [],
   "source": [
    "import torch\n",
    "import torchvision\n",
    "from torchvision import transforms\n",
    "image_path = 'data/'\n",
    "transform = transforms.Compose([\n",
    "    transforms.ToTensor(),\n",
    "])\n",
    "mnist_train = torchvision.datasets.MNIST(root=image_path, train=True, download=True, transform=transform)\n",
    "mnist_test = torchvision.datasets.MNIST(root=image_path, train=False, download=True, transform=transform)\n",
    "\n",
    "train_dl = torch.utils.data.DataLoader(mnist_train, batch_size=100, shuffle=True)\n",
    "test_dl = torch.utils.data.DataLoader(mnist_test, batch_size=100, shuffle=False)"
   ]
  },
  {
   "cell_type": "code",
   "execution_count": 5,
   "metadata": {},
   "outputs": [
    {
     "data": {
      "text/plain": [
       "Sequential(\n",
       "  (conv2d_1): Conv2d(1, 32, kernel_size=(5, 5), stride=(1, 1), padding=(2, 2))\n",
       "  (relu_1): ReLU()\n",
       "  (maxpool_1): MaxPool2d(kernel_size=2, stride=2, padding=0, dilation=1, ceil_mode=False)\n",
       "  (conv2d_2): Conv2d(32, 64, kernel_size=(5, 5), stride=(1, 1), padding=(2, 2))\n",
       "  (relu_2): ReLU()\n",
       "  (maxpool_2): MaxPool2d(kernel_size=2, stride=2, padding=0, dilation=1, ceil_mode=False)\n",
       "  (flatten): Flatten(start_dim=1, end_dim=-1)\n",
       "  (linear_1): Linear(in_features=3136, out_features=1024, bias=True)\n",
       "  (relu_3): ReLU()\n",
       "  (dropout): Dropout(p=0.5, inplace=False)\n",
       "  (linear_2): Linear(in_features=1024, out_features=10, bias=True)\n",
       ")"
      ]
     },
     "execution_count": 5,
     "metadata": {},
     "output_type": "execute_result"
    }
   ],
   "source": [
    "model = torch.nn.Sequential()\n",
    "\n",
    "model.add_module(\n",
    "    'conv2d_1',\n",
    "    torch.nn.Conv2d(\n",
    "        in_channels=1, # 1 canal de entrada\n",
    "        out_channels=32, # 32 canales de salida\n",
    "        kernel_size=5, # kernel 5x5\n",
    "        padding=2 # padding 2\n",
    "        )\n",
    "    )\n",
    "model.add_module('relu_1', torch.nn.ReLU()) \n",
    "model.add_module('maxpool_1', torch.nn.MaxPool2d(kernel_size=2, stride=2))\n",
    "\n",
    "model.add_module('conv2d_2', torch.nn.Conv2d(in_channels=32, out_channels=64, kernel_size=5, padding=2))\n",
    "model.add_module('relu_2', torch.nn.ReLU())\n",
    "model.add_module('maxpool_2', torch.nn.MaxPool2d(kernel_size=2, stride=2))\n",
    "\n",
    "model.add_module('flatten', torch.nn.Flatten())\n",
    "model.add_module('linear_1', torch.nn.Linear(64*7*7, 1024)) # 64 out channels, \n",
    "model.add_module('relu_3', torch.nn.ReLU())\n",
    "model.add_module('dropout', torch.nn.Dropout(p=0.5)) # evitar overfitting\n",
    "model.add_module('linear_2', torch.nn.Linear(1024, 10))\n",
    "\n",
    "model"
   ]
  },
  {
   "cell_type": "code",
   "execution_count": null,
   "metadata": {},
   "outputs": [],
   "source": [
    "loss = torch.nn.CrossEntropyLoss()\n",
    "optimizer = torch.optim.Adam(model.parameters(), lr=0.001)\n",
    "\n",
    "for epoch in range(10):\n",
    "    for i, (images, labels) in enumerate(train_dl):\n",
    "        y = model(images)\n",
    "        l = loss(y, labels)\n",
    "        l.backward()\n",
    "        optimizer.step()\n",
    "        optimizer.zero_grad()\n",
    "    print(f'epoch: {epoch}, batch: {i}, loss: {l.item()}')"
   ]
  },
  {
   "cell_type": "code",
   "execution_count": null,
   "metadata": {},
   "outputs": [],
   "source": [
    "correct = 0\n",
    "total = 0\n",
    "with torch.no_grad():\n",
    "    for images, labels in test_dl:\n",
    "        y = model(images)\n",
    "        _, predicted = torch.max(y, 1)\n",
    "        total += labels.size(0)\n",
    "        correct += (predicted == labels).sum().item()\n",
    "print(f'accuracy: {correct / total}')"
   ]
  }
 ],
 "metadata": {
  "kernelspec": {
   "display_name": "Python 3",
   "language": "python",
   "name": "python3"
  },
  "language_info": {
   "codemirror_mode": {
    "name": "ipython",
    "version": 3
   },
   "file_extension": ".py",
   "mimetype": "text/x-python",
   "name": "python",
   "nbconvert_exporter": "python",
   "pygments_lexer": "ipython3",
   "version": "3.12.2"
  }
 },
 "nbformat": 4,
 "nbformat_minor": 2
}
